{
 "cells": [

  {
   "attachments": {},
   "cell_type": "markdown",
   "metadata": {},
   "source": [
    "# U.S. Medical Insurance Costs\n",
    "Given dataset insurance costs and patients attributes that calculate to an insurance cost for patients. \n",
    "\n",
    "1. Our goal is to identify trends and identify patients attributes that incr/decr medical insurance costs. \n",
    "\n",
    "2. After reviewing the dataframe,  and sorting costs, we can see larger costs for smokers. Therefore will start by comparing the total cost in the database for smokers, and for non-smokers. \n",
    "\n",
    "3. We used mean and var functions to caculate the percentage of cost for each attibutes listed to see the proporations they contributed to total costs.  \n",
    "\n",
    "4. Last we will use correlations of the numerical attributes of the patients lifestyle, to understand the direct and indirect linear relationship with charges. We used dummy variables in order to correlate the non-numerical answers for sex, smokers and region. "
   ]
  },
  {
   "cell_type": "code",
   "execution_count": 20,
   "metadata": {},
   "outputs": [
    {
     "data": {
      "text/html": [
       "<div>\n",
       "<style scoped>\n",
       "    .dataframe tbody tr th:only-of-type {\n",
       "        vertical-align: middle;\n",
       "    }\n",
       "\n",
       "    .dataframe tbody tr th {\n",
       "        vertical-align: top;\n",
       "    }\n",
       "\n",
       "    .dataframe thead th {\n",
       "        text-align: right;\n",
       "    }\n",
       "</style>\n",
       "<table border=\"1\" class=\"dataframe\">\n",
       "  <thead>\n",
       "    <tr style=\"text-align: right;\">\n",
       "      <th></th>\n",
       "      <th>age</th>\n",
       "      <th>sex</th>\n",
       "      <th>bmi</th>\n",
       "      <th>children</th>\n",
       "      <th>smoker</th>\n",
       "      <th>region</th>\n",
       "      <th>charges</th>\n",
       "    </tr>\n",
       "  </thead>\n",
       "  <tbody>\n",
       "    <tr>\n",
       "      <th>0</th>\n",
       "      <td>19</td>\n",
       "      <td>female</td>\n",
       "      <td>27.900</td>\n",
       "      <td>0</td>\n",
       "      <td>yes</td>\n",
       "      <td>southwest</td>\n",
       "      <td>16884.92400</td>\n",
       "    </tr>\n",
       "    <tr>\n",
       "      <th>1</th>\n",
       "      <td>18</td>\n",
       "      <td>male</td>\n",
       "      <td>33.770</td>\n",
       "      <td>1</td>\n",
       "      <td>no</td>\n",
       "      <td>southeast</td>\n",
       "      <td>1725.55230</td>\n",
       "    </tr>\n",
       "    <tr>\n",
       "      <th>2</th>\n",
       "      <td>28</td>\n",
       "      <td>male</td>\n",
       "      <td>33.000</td>\n",
       "      <td>3</td>\n",
       "      <td>no</td>\n",
       "      <td>southeast</td>\n",
       "      <td>4449.46200</td>\n",
       "    </tr>\n",
       "    <tr>\n",
       "      <th>3</th>\n",
       "      <td>33</td>\n",
       "      <td>male</td>\n",
       "      <td>22.705</td>\n",
       "      <td>0</td>\n",
       "      <td>no</td>\n",
       "      <td>northwest</td>\n",
       "      <td>21984.47061</td>\n",
       "    </tr>\n",
       "    <tr>\n",
       "      <th>4</th>\n",
       "      <td>32</td>\n",
       "      <td>male</td>\n",
       "      <td>28.880</td>\n",
       "      <td>0</td>\n",
       "      <td>no</td>\n",
       "      <td>northwest</td>\n",
       "      <td>3866.85520</td>\n",
       "    </tr>\n",
       "  </tbody>\n",
       "</table>\n",
       "</div>"
      ],
      "text/plain": [
       "   age     sex     bmi  children smoker     region      charges\n",
       "0   19  female  27.900         0    yes  southwest  16884.92400\n",
       "1   18    male  33.770         1     no  southeast   1725.55230\n",
       "2   28    male  33.000         3     no  southeast   4449.46200\n",
       "3   33    male  22.705         0     no  northwest  21984.47061\n",
       "4   32    male  28.880         0     no  northwest   3866.85520"
      ]
     },
     "execution_count": 20,
     "metadata": {},
     "output_type": "execute_result"
    }
   ],
   "source": [
    "#open csv data file\n",
    "import pandas as pd\n",
    "df_csv = pd.read_csv('insurance.csv')\n",
    "df_csv.head()\n",
    "\n"
   ]
  },
  {
   "cell_type": "code",
   "execution_count": 21,
   "metadata": {},
   "outputs": [
    {
     "name": "stdout",
     "output_type": "stream",
     "text": [
      "Sum: 8781763.521839999\n",
      "Mean: 32050.23183153284\n",
      "Standard deviation: 11541.547175589121\n"
     ]
    }
   ],
   "source": [
    "import pandas as pd\n",
    "\n",
    "# Load the CSV file into a pandas dataframe\n",
    "df = pd.read_csv('insurance.csv')\n",
    "\n",
    "# Select the rows where the selected row is True\n",
    "selected_rows = df.loc[df['smoker'] == 'yes']\n",
    "\n",
    "# Calculate the sum, mean, and standard deviation of the 'numerical_column' for the selected rows\n",
    "sum_of_charges = selected_rows['charges'].sum()\n",
    "mean_of_charges = selected_rows['charges'].mean()\n",
    "std_of_charges = selected_rows['charges'].std()\n",
    "\n",
    "# Print the results of SMOKERS (yes)\n",
    "print('Sum:', sum_of_charges)\n",
    "print('Mean:', mean_of_charges)\n",
    "print('Standard deviation:', std_of_charges)"
   ]
  },
  {
   "cell_type": "code",
   "execution_count": 22,
   "metadata": {},
   "outputs": [
    {
     "name": "stdout",
     "output_type": "stream",
     "text": [
      "Sum: 8974061.468919002\n",
      "Mean: 8434.268297856204\n",
      "Standard deviation: 5993.781819194933\n"
     ]
    }
   ],
   "source": [
    "import pandas as pd\n",
    "\n",
    "# Load the CSV file into a pandas dataframe\n",
    "df = pd.read_csv('insurance.csv')\n",
    "\n",
    "# Select the rows where the 'boolean_column' is True\n",
    "selected_rows = df.loc[df['smoker'] == 'no']\n",
    "\n",
    "# Calculate the sum, mean, and standard deviation of the 'numerical_column' for the selected rows\n",
    "sum_of_charges = selected_rows['charges'].sum()\n",
    "mean_of_charges = selected_rows['charges'].mean()\n",
    "std_of_charges = selected_rows['charges'].std()\n",
    "\n",
    "# Print the results\n",
    "print('Sum:', sum_of_charges)\n",
    "print('Mean:', mean_of_charges)\n",
    "print('Standard deviation:', std_of_charges)"
   ]
  },
  {
   "cell_type": "code",
   "execution_count": 23,
   "metadata": {},
   "outputs": [
    {
     "name": "stdout",
     "output_type": "stream",
     "text": [
      "Sum: 8321061.194619\n",
      "Mean: 12569.578843835347\n",
      "Standard deviation: 11128.703800915431\n"
     ]
    }
   ],
   "source": [
    "import pandas as pd\n",
    "\n",
    "# Load the CSV file into a pandas dataframe\n",
    "df = pd.read_csv('insurance.csv')\n",
    "\n",
    "# Select the rows where the 'boolean_column' is True\n",
    "selected_rowsf = df.loc[df['sex'] == 'female']\n",
    "selected_rowsm = df.loc[df['sex'] == 'male']\n",
    "\n",
    "# Calculate the sum, mean, and standard deviation of the 'numerical_column' for the selected rows\n",
    "sum_of_chargesf = selected_rowsf['charges'].sum()\n",
    "mean_of_chargesf = selected_rowsf['charges'].mean()\n",
    "std_of_chargesf = selected_rowsf['charges'].std()\n",
    "\n",
    "# Print the results for non-Smokers\n",
    "print('Sum:', sum_of_chargesf)\n",
    "print('Mean:', mean_of_chargesf)\n",
    "print('Standard deviation:', std_of_chargesf)"
   ]
  },
  {
   "cell_type": "code",
   "execution_count": 32,
   "metadata": {},
   "outputs": [
    {
     "name": "stdout",
     "output_type": "stream",
     "text": [
      "sexdiff =  1387.1723338865468 smokerdiff =  23615.963533676637 northwesteastmean_diff =  -988.8091424165741 southwesteast_diff =  -2388.4740603175796\n",
      "sexmeanratio_male =  0.5261470835347225\n",
      "smokermeanratio_yes =  0.7916667299608452\n",
      "bmi_diff =  3691.9691415861435\n",
      "bmi_meanratio =  0.5735515311910594\n",
      "age under 25 mean =  9087.015806924837 age between 26-40 mean =  11096.679994430378 age between 41-55 mean =  15515.617320261283 age between 56-70 mean =  18288.00508139175\n"
     ]
    }
   ],
   "source": [
    "import pandas as pd\n",
    "\n",
    "# Load the CSV file into a pandas dataframe\n",
    "df = pd.read_csv('insurance.csv')\n",
    "\n",
    "# Calculate the mean and variance of the \"charges\" column for females and males, smokers and non-smokers,\n",
    "# age levels, bmi levels and regions\n",
    "age_young = df.loc[df['age'].between(0,25), 'charges'].mean()\n",
    "age_medyoung = df.loc[df['age'].between(26,40), 'charges'].mean()\n",
    "age_med = df.loc[df['age'].between(41,55), 'charges'].mean()\n",
    "age_medold = df.loc[df['age'].between(56,63), 'charges'].mean()\n",
    "higher_older = df.loc[df['age'] > 34 , 'charges'].mean()\n",
    "low_bmi_mean = df.loc[df['bmi'] < 28 , 'charges'].mean()\n",
    "higher_bmi_mean = df.loc[df['bmi'] > 27 , 'charges'].mean()\n",
    "female_mean = df.loc[df['sex'] == 'female', 'charges'].mean()\n",
    "male_mean = df.loc[df['sex'] == 'male', 'charges'].mean()\n",
    "smokeryes_mean = df.loc[df['smoker'] == 'yes', 'charges'].mean()\n",
    "smokerno_mean = df.loc[df['smoker'] == 'no', 'charges'].mean()\n",
    "northwest_mean = df.loc[df['region'] == 'northwest', 'charges'].mean()\n",
    "southwest_mean = df.loc[df['region'] == 'southwest', 'charges'].mean()\n",
    "northeast_mean = df.loc[df['region'] == 'northeast', 'charges'].mean()\n",
    "southeast_mean = df.loc[df['region'] == 'southeast', 'charges'].mean()\n",
    "\n",
    "# Calculate the difference in mean and variance between males and females\n",
    "sexmean_diff = male_mean - female_mean\n",
    "sexmeanratio = male_mean/(male_mean+female_mean)\n",
    "high_lowbmi_diff = higher_bmi_mean - low_bmi_mean\n",
    "bmimeanratio = higher_bmi_mean/(higher_bmi_mean + low_bmi_mean)\n",
    "\n",
    "smokermean_diff = smokeryes_mean - smokerno_mean\n",
    "smokermeanratio = smokeryes_mean/(smokeryes_mean + smokerno_mean)\n",
    "\n",
    "northwesteastmean_diff =  northwest_mean - northeast_mean\n",
    "southwesteastmean_diff = southwest_mean - southeast_mean\n",
    "\n",
    "# Print the results\n",
    "print( \"sexdiff = \", sexmean_diff, \"smokerdiff = \", smokermean_diff, \"northwesteastmean_diff = \", northwesteastmean_diff, \"southwesteast_diff = \", southwesteastmean_diff)\n",
    "print(\"sexmeanratio_male = \", sexmeanratio)\n",
    "print(\"smokermeanratio_yes = \", smokermeanratio)\n",
    "print(\"bmi_diff = \", high_lowbmi_diff)\n",
    "print(\"bmi_meanratio = \", bmimeanratio)\n",
    "print(\"age under 25 mean = \", age_young, \"age between 26-40 mean = \",age_medyoung, \"age between 41-55 mean = \", age_med, \"age between 56-70 mean = \",age_medold)"
   ]
  },
  {
   "attachments": {},
   "cell_type": "markdown",
   "metadata": {},
   "source": [
    "sexdiff =  1387.17 Male average costs are greater than female avg cost. \n",
    "smokerdiff =  23615.96 People that smoke are much higher than average amount of non-smokers. \n",
    "northwesteastmean_diff =  -988.81 = Northwestern regions are lower in cost than northeast region. \n",
    "southwesteast_diff =  -2388.47 Southwest regions are lower than northeast region. \n",
    "sexmeanratio_male =  53% higher avg cost than women. \n",
    "smokermeanratio_yes =  80% higher avg cost than non-smokers.\n",
    "bmi_diff =  3691.97 higher cost if their bmi > 27\n",
    "bmi_meanratio =  57% higher cost with higher than >27 bmi. \n",
    "age under 25 mean =  9087.016 \n",
    "age between 26-40 mean =  11096.69 \n",
    "age between 41-55 mean =  15515.62\n",
    "age between 56-70 mean =  18288.01"
   ]
  },
  {
   "attachments": {},
   "cell_type": "markdown",
   "metadata": {},
   "source": [
    "We want to see how closely correlated/relationships with the charges/cost of insurance. "
   ]
  },
  {
   "cell_type": "code",
   "execution_count": 25,
   "metadata": {},
   "outputs": [
    {
     "name": "stdout",
     "output_type": "stream",
     "text": [
      "age                 0.299008\n",
      "bmi                 0.198341\n",
      "children            0.067998\n",
      "charges             1.000000\n",
      "sex_female         -0.057292\n",
      "sex_male            0.057292\n",
      "smoker_no          -0.787251\n",
      "smoker_yes          0.787251\n",
      "region_northeast    0.006349\n",
      "region_northwest   -0.039905\n",
      "region_southeast    0.073982\n",
      "region_southwest   -0.043210\n",
      "Name: charges, dtype: float64\n"
     ]
    }
   ],
   "source": [
    "import pandas as pd\n",
    "\n",
    "df = pd.read_csv('insurance.csv')\n",
    "\n",
    "# Convert the \"sex\", \"smoker\", and \"region\" columns to dummy variables\n",
    "df = pd.get_dummies(df, columns=['sex', 'smoker', 'region'])\n",
    "\n",
    "correlations = df.corr()['charges']\n",
    "\n",
    "# Print the correlations\n",
    "print(correlations)"
   ]
  },
  {
   "attachments": {},
   "cell_type": "markdown",
   "metadata": {},
   "source": [
    "Based on the above analysis of the file 'insurance.csv', we can conclude the following:\n",
    "1. Whether a person is a smoker or not, weighed heavily and most directly to the higher or lower charges for insurance.\n",
    "2. age at .299 was the next highest correlation, however not enough to be strong neither was bmi at .2 correlation. \n",
    "3. Although someone under 25 would be paying on average half the amount of someone over 56. \n",
    "4. Someone with a >27 bmi would be paying 57% higher on average than someone with bmi under 28. \n",
    "5. More notably someone that is smoker vs a non-smoker is paying almost 4x (400%) higher average costs for coverage than a non-smoker."
   ]
  }
 ],
 "metadata": {
  "kernelspec": {
   "display_name": "Python 3 (ipykernel)",
   "language": "python",
   "name": "python3"
  },
  "language_info": {
   "codemirror_mode": {
    "name": "ipython",
    "version": 3
   },
   "file_extension": ".py",
   "mimetype": "text/x-python",
   "name": "python",
   "nbconvert_exporter": "python",
   "pygments_lexer": "ipython3",
   "version": "3.10.11"
  }
 },
 "nbformat": 4,
 "nbformat_minor": 4
}
